{
 "cells": [
  {
   "cell_type": "code",
   "source": [
    "import numpy as np\n",
    "\n",
    "import panda\n",
    "import symmetry_utils as symm\n",
    "import vector_space_utils as vs\n",
    "import face_utils as fc\n",
    "import quantum_utils as qm\n",
    "import linprog as lp"
   ],
   "metadata": {
    "collapsed": false,
    "pycharm": {
     "name": "#%%\n"
    }
   },
   "execution_count": 1,
   "outputs": []
  },
  {
   "cell_type": "markdown",
   "source": [
    "# Vertices of LC\n",
    "LC is the convex hull of LC1 and LC2. Let's first find the vertices of LC1.\n",
    "\n",
    "\n",
    "### Vertices of LC1\n",
    "We first generate a PANDA input file containing a facet description of LC1:"
   ],
   "metadata": {
    "collapsed": false
   }
  },
  {
   "cell_type": "code",
   "execution_count": 2,
   "outputs": [],
   "source": [
    "panda.write_panda_input_file(dimension=vs.dim_LC1((2,) * 7),\n",
    "                             symmetries=symm.lc1_symm_generators(),\n",
    "                             inequalities=-vs.construct_LC1_to_full_h()[:-1],\n",
    "                             # minus sign because PANDA default is <= rather than >=. [:-1] because last row of homogeneous matrix is irrelevant.\n",
    "                             filename='output/1_LC1_facets')"
   ],
   "metadata": {
    "collapsed": false,
    "pycharm": {
     "name": "#%%\n"
    }
   }
  },
  {
   "cell_type": "markdown",
   "source": [
    "The file `1_LC1_facets` now can be loaded into PANDA to obtain a vertex description of LC1:\n",
    "`panda -c -i safe -s reverse 1_LC1_facets`\n",
    "This computation takes about a day and produces the contents of file `2_LC1_vertex_classes`, containing representatives of the 56 vertex classes of LC1 (see README.md for an explanation of the format).\n",
    "\n",
    "### From LC1 to LC\n",
    "The set of vertices of LC is the union of the vertices of LC1 and LC2. We have the vertex classes of LC1, but LC1 has some symmetries that LC doesn't (and vice versa). We therefore need to compute the equivalence classes of LC1 vertices under LC symmetries. Python is too slow for this, so we use a C++ program `panda-symmetries` that exploits some existing PANDA code. The code below creates a file that contains everything the C++ program needs: a representation of the LC1 symmetries and the LC symmetries, and the contents of `2_LC1_vertex_classes`, containing representatives of LC1-classes of LC1 vertices.\n",
    "\n",
    "The resulting representatives will in fact be representatives of _all_ vertex classes of LC. This is because LC2 is the image of LC1 under exchanging the variables a1 with a2 and x1 with x2; but this is a symmetry of LC, so up to LC-equivalence we don't need to bother about LC2.\n",
    "\n",
    "At one point in the code below we need to change coordinates from LC1 coordinates to NSS coordinates (see README.md). Here NSS is the no-(superluminal-)signalling set, which just like LC has dimension 86, rather than 80, the dimension of LC1."
   ],
   "metadata": {
    "collapsed": false
   }
  },
  {
   "cell_type": "code",
   "execution_count": 3,
   "outputs": [],
   "source": [
    "# Symmetries:\n",
    "# the first 7 symmetries will be LC1 symmetries (in NSS coordinates)\n",
    "# the next 8 symmetries will be LC symmetries (in NSS coordinates)\n",
    "maps = np.array([\n",
    "    symm.nss_var_perm_to_symm(lambda a1, a2, c, b, x1, x2, y: (a1, a2, c, b, (x1 + 1) % 2, x2, y)),  # x1 -> x1 + 1\n",
    "    symm.nss_var_perm_to_symm(lambda a1, a2, c, b, x1, x2, y: ((a1 + x1) % 2, a2, c, b, x1, x2, y)),  # a1 -> a1 + x1\n",
    "    symm.nss_var_perm_to_symm(lambda a1, a2, c, b, x1, x2, y: (a1, a2, c, b, x1, (x2 + x1 * a1) % 2, y)), # x2 -> x2 + x1*a1\n",
    "    symm.nss_var_perm_to_symm(lambda a1, a2, c, b, x1, x2, y: (a1, (a2 + x1 * a1 * x2) % 2, c, b, x1, x2, y)),  # a2 -> a2 + x1*a1*x2\n",
    "    symm.nss_var_perm_to_symm(lambda a1, a2, c, b, x1, x2, y: (a1, a2, (c + x1 * a1 * x2 * a2) % 2, b, x1, x2, y)),  # c -> c + x1*a1*x2*a2\n",
    "    symm.nss_var_perm_to_symm(lambda a1, a2, c, b, x1, x2, y: (a1, a2, c, b, x1, x2, (y + 1) % 2)),  # y -> y  + 1\n",
    "    symm.nss_var_perm_to_symm(lambda a1, a2, c, b, x1, x2, y: (a1, a2, c, (b + y) % 2, x1, x2, y)),  # b -> b  + y\n",
    "\n",
    "    symm.nss_var_perm_to_symm(lambda a1, a2, c, b, x1, x2, y: (a1, a2, c, b, (x1 + 1) % 2, x2, y)),  # x1 -> x1 + 1\n",
    "    symm.nss_var_perm_to_symm(lambda a1, a2, c, b, x1, x2, y: ((a1 + x1) % 2, a2, c, b, x1, x2, y)),  # a1 -> a1 + x1\n",
    "    symm.nss_var_perm_to_symm(lambda a1, a2, c, b, x1, x2, y: (a1, a2, c, b, x1, (x2 + 1) % 2, y)),  # x2 -> x2 + 1\n",
    "    symm.nss_var_perm_to_symm(lambda a1, a2, c, b, x1, x2, y: (a1, (a2 + x2) % 2, c, b, x1, x2, y)),  # a2 -> a2 + x2\n",
    "    symm.nss_var_perm_to_symm(lambda a1, a2, c, b, x1, x2, y: (a1, a2, (c + x1 * a1 * x2 * a2) % 2, b, x1, x2, y)),  # c -> c + x1*a1*x2*a2\n",
    "    symm.nss_var_perm_to_symm(lambda a1, a2, c, b, x1, x2, y: (a1, a2, c, b, x1, x2, (y + 1) % 2)),  # y  -> y  + 1\n",
    "    symm.nss_var_perm_to_symm(lambda a1, a2, c, b, x1, x2, y: (a1, a2, c, (b + y) % 2, x1, x2, y)),  # b  -> b  + y\n",
    "    symm.nss_var_perm_to_symm(lambda a1, a2, c, b, x1, x2, y: (a2, a1, c, b, x2, x1, y))  # a2 <-> a1, x2 <-> x1\n",
    "])\n",
    "\n",
    "# Load LC1 vertices\n",
    "lc1_vertex_file = open('output/2_LC1_vertex_classes', 'r')\n",
    "vertices_in_lc1_coords_h = []\n",
    "for line in lc1_vertex_file.readlines():\n",
    "    vertices_in_lc1_coords_h.append(list(map(int, line.split())))\n",
    "vertices_in_lc1_coords_h = np.array(vertices_in_lc1_coords_h)\n",
    "\n",
    "# Convert vertices to NSS coordinates\n",
    "vertices_in_nss_coords_h = (vs.construct_full_to_NSS_h() @ vs.construct_LC1_to_full_h() @ vertices_in_lc1_coords_h.T).T\n",
    "\n",
    "panda.write_panda_input_file(dimension=86,\n",
    "                             symmetries=maps,\n",
    "                             vertices=vertices_in_nss_coords_h,\n",
    "                             filename='output/3_LC1_vertex_classes_to_unpack')"
   ],
   "metadata": {
    "collapsed": false,
    "pycharm": {
     "name": "#%%\n"
    }
   }
  },
  {
   "cell_type": "markdown",
   "source": [
    "Running the resulting file `3_LC1_vertex_classes_to_unpack` through our C++ program,\n",
    "`panda-symmetries --expand-and-reduce -i safe 3_LC1_vertex_classes_to_unpack > 4_LC_vertex_classes`\n",
    "yields the 219 vertex classes of LC in `4_LC_vertex_classes`. See README.md for an explanation of the file format.\n",
    "\n",
    "Finally, the file `5_all_lc_vertices.npy` is a numpy-dump of an integer array containing all vertices of LC (not just up to equivalence), obtained using the `--expand` option of the C++ program. It can be loaded as follows (takes up a bit of memory)."
   ],
   "metadata": {
    "collapsed": false
   }
  },
  {
   "cell_type": "code",
   "execution_count": 4,
   "outputs": [
    {
     "name": "stdout",
     "output_type": "stream",
     "text": [
      "(9165312, 87)\n"
     ]
    }
   ],
   "source": [
    "vertices = np.load('output/5_all_LC_vertices.npy')\n",
    "print(vertices.shape)\n",
    "del vertices  # to free up memory"
   ],
   "metadata": {
    "collapsed": false,
    "pycharm": {
     "name": "#%%\n"
    }
   }
  },
  {
   "cell_type": "markdown",
   "source": [
    "# Dimension of LC\n",
    "With access to the vertices of LC, we can calculate its dimension, being one less than the size of a maximal set of affinely independent vertices. We'll use that a system of vectors is affinely independent if their homogeneous representations are linearly independent."
   ],
   "metadata": {
    "collapsed": false
   }
  },
  {
   "cell_type": "code",
   "execution_count": 5,
   "outputs": [
    {
     "name": "stdout",
     "output_type": "stream",
     "text": [
      "Dimension of LC: 86\n"
     ]
    }
   ],
   "source": [
    "# It turns out the first 10000 vertices already contain 87 affinely independent ones\n",
    "print(\"Dimension of LC:\", np.linalg.matrix_rank(np.load('output/5_all_LC_vertices.npy')[:10000]) - 1)"
   ],
   "metadata": {
    "collapsed": false,
    "pycharm": {
     "name": "#%%\n"
    }
   }
  },
  {
   "cell_type": "markdown",
   "source": [
    "# Dimensions of faces\n",
    "We can also use the vertices of LC to determine the dimensions of faces of LC defined by given inequalities."
   ],
   "metadata": {
    "collapsed": false
   }
  },
  {
   "cell_type": "code",
   "execution_count": 6,
   "outputs": [],
   "source": [
    "ineq_i = fc.construct_ineq_nss(lambda a1, a2, c, b, x1, x2, y: (b == 0 and a2 == x1 and y == 0) * 1 / 4 +  # the 1/4 accounts for the probability p(x1,x2)\n",
    "                                                               (b == 1 and a1 == x2 and y == 0) * 1 / 4 +\n",
    "                                                               ((b + c) % 2 == x2 * y and x1 == 0) * 1 / 4, 7 / 4)\n",
    "ineq_ii = fc.construct_ineq_nss(lambda a1, a2, c, b, x1, x2, y: (b == 0 and a2 == x1 and y == 0 and x2 == 0) * 1 / 2 +\n",
    "                                                                (b == 1 and a1 == x2 and y == 0 and x1 == 0) * 1 / 2 +\n",
    "                                                                ((b + c) % 2 == x2 * y and x1 == 0) * 1 / 4, 7 / 4)\n",
    "ineq_iii = fc.construct_ineq_nss(lambda a1, a2, c, b, x1, x2, y: (b == 0 and a2 == x1 and y == 0 and x2 == 0) * 1 / 2 +\n",
    "                                                                 (b == 1 and a1 == x2 and y == 0 and x1 == 1) * 1 / 2 +\n",
    "                                                                 ((b + c) % 2 == x2 * y and x1 == 0) * 1 / 4 +\n",
    "                                                                 (a2 == 1 and (c + 1) % 2 == b == y and x1 == x2 == 0) * 1 / 2, 7 / 4)\n",
    "ineq_iv = fc.construct_ineq_nss(lambda a1, a2, c, b, x1, x2, y: ((a1 == x2 and a2 == x1) * 1 / 8), upper_bound=1 / 2)\n",
    "ineq_v = fc.construct_ineq_nss(lambda a1, a2, c, b, x1, x2, y: ((a1 == x2 and a2 == x1 and b == 0 and y == 1) * 1 / 4 +\n",
    "                                                                (b == 1 and y == 1) * 1 / 2 * 1 / 4), upper_bound=1 / 2)\n",
    "ineq_vi = fc.construct_ineq_nss(lambda a1, a2, c, b, x1, x2, y: ((x1 * ((a1 + x2) % 2) == x2 * ((a2 + x1) % 2) == 0) * 1 / 8), upper_bound=3 / 4)\n",
    "ineq_vii = fc.construct_ineq_nss(lambda a1, a2, c, b, x1, x2, y: ((x1 * ((a1 + x2) % 2) == x2 * ((a2 + x1) % 2) == 0 and b == 0 and y == 1) * 1 / 4 +\n",
    "                                                                 (b == 1 and y == 1) * 3 / 4 * 1 / 4), upper_bound=3 / 4)\n",
    "\n",
    "assert fc.max_violation_by_lc(ineq_i) == 0  # confirms that this inequality is valid and tight for LC (using linear programming)\n",
    "assert fc.max_violation_by_lc(ineq_ii) == 0\n",
    "assert fc.max_violation_by_lc(ineq_iii) == 0\n",
    "assert fc.max_violation_by_lc(ineq_iv) == 0\n",
    "assert fc.max_violation_by_lc(ineq_v) == 0\n",
    "assert fc.max_violation_by_lc(ineq_vi) == 0\n",
    "assert fc.max_violation_by_lc(ineq_vii) == 0\n",
    "fc.count_face_dimension(ineq_i)   # -> 67\n",
    "# fc.count_face_dimension(ineq_ii)   # -> 73\n",
    "# fc.count_face_dimension(ineq_iii)   # -> 85\n",
    "# fc.count_face_dimension(ineq_iv)   # -> 83\n",
    "# fc.count_face_dimension(ineq_v)   # -> 85\n",
    "# fc.count_face_dimension(ineq_vi)   # -> 83\n",
    "# fc.count_face_dimension(ineq_vii)   # -> 85"
   ],
   "metadata": {
    "collapsed": false,
    "pycharm": {
     "name": "#%%\n"
    }
   }
  },
  {
   "cell_type": "markdown",
   "source": [
    "## Finding facets\n",
    "Due to the high number of vertices and dimensions of the LC polytope, it is unrealistic to enumerate its facets using PANDA. The function below can however be used to find facets adjacent to known faces (the higher the dimension of the known face, the shorter the computation). `ineq_iii`, `ineq_v` and `ineq_vii` above were found in similar ways."
   ],
   "metadata": {
    "collapsed": false
   }
  },
  {
   "cell_type": "code",
   "execution_count": 10,
   "outputs": [
    {
     "name": "stdout",
     "output_type": "stream",
     "text": [
      "The inequality supports a face of dimension 85\n"
     ]
    }
   ],
   "source": [
    "# facet = fc.find_a_facet_adjacent_to_face(ineq_iv, np.load('output/5_all_LC_vertices.npy'), tol=1e-14)\n",
    "# print(facet)\n",
    "# assert fc.count_face_dimension(facet) == 85"
   ],
   "metadata": {
    "collapsed": false,
    "pycharm": {
     "name": "#%%\n"
    }
   }
  },
  {
   "cell_type": "markdown",
   "source": [
    "# Quantum correlations\n",
    "`quantum_utils.py` provides functions to compute quantum correlations observed by parties using given quantum instruments in the four-partite process matrix consisting of a switch and an entangled observer. Some of these correlations violate the inequalities defined above."
   ],
   "metadata": {
    "collapsed": false
   }
  },
  {
   "cell_type": "code",
   "execution_count": 8,
   "outputs": [
    {
     "name": "stdout",
     "output_type": "stream",
     "text": [
      "Inequality i is violated by 0.015165042944955354\n"
     ]
    }
   ],
   "source": [
    "qm_cor = qm.quantum_cor_nss_h_discardT(# Prepare T in state 0; CB in state Phi+\n",
    "                                      rho_ctb=qm.rho_tcb_0phi,  \n",
    "                                      # Alice 1 does a measure-prepare channel:\n",
    "                                      instrs_A1=[qm.instr_measure_and_prepare(qm.z_onb, qm.ket0), qm.instr_measure_and_prepare(qm.z_onb, qm.ket1)],\n",
    "                                      # Alice 2 does a measure-prepare channel:\n",
    "                                      instrs_A2=[qm.instr_measure_and_prepare(qm.z_onb, qm.ket0), qm.instr_measure_and_prepare(qm.z_onb, qm.ket1)],\n",
    "                                      # Charlie does a von Neumann projective mmt in the diagonal Z+X direction\n",
    "                                      instr_C=qm.instr_vn_destr(qm.diag1_onb),\n",
    "                                      # Bob chooses between Z and X:\n",
    "                                      instrs_B=[qm.instr_vn_destr(qm.z_onb), qm.instr_vn_destr(qm.x_onb)])  \n",
    "print(\"Inequality i is violated by\", ineq_i @ qm_cor / qm_cor[-1])"
   ],
   "metadata": {
    "collapsed": false,
    "pycharm": {
     "name": "#%%\n"
    }
   }
  },
  {
   "cell_type": "markdown",
   "source": [
    "In addition, we can use linear programming to efficiently decide whether a given (quantum) correlation is a member of the LC polytope."
   ],
   "metadata": {
    "collapsed": false
   }
  },
  {
   "cell_type": "code",
   "execution_count": 9,
   "outputs": [
    {
     "name": "stdout",
     "output_type": "stream",
     "text": [
      "False\n"
     ]
    }
   ],
   "source": [
    "print(lp.is_cor_in_lc(qm_cor).success)"
   ],
   "metadata": {
    "collapsed": false,
    "pycharm": {
     "name": "#%%\n"
    }
   }
  }
 ],
 "metadata": {
  "kernelspec": {
   "display_name": "Python 3",
   "language": "python",
   "name": "python3"
  },
  "language_info": {
   "codemirror_mode": {
    "name": "ipython",
    "version": 2
   },
   "file_extension": ".py",
   "mimetype": "text/x-python",
   "name": "python",
   "nbconvert_exporter": "python",
   "pygments_lexer": "ipython2",
   "version": "2.7.6"
  }
 },
 "nbformat": 4,
 "nbformat_minor": 0
}